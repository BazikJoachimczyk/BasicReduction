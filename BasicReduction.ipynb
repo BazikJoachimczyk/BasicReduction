{
 "cells": [
  {
   "cell_type": "code",
   "execution_count": 28,
   "metadata": {},
   "outputs": [
    {
     "ename": "NameError",
     "evalue": "name 'listdir' is not defined",
     "output_type": "error",
     "traceback": [
      "\u001b[1;31m---------------------------------------------------------------------------\u001b[0m",
      "\u001b[1;31mNameError\u001b[0m                                 Traceback (most recent call last)",
      "Cell \u001b[1;32mIn[28], line 47\u001b[0m\n\u001b[0;32m     44\u001b[0m \u001b[38;5;66;03m#endregion\u001b[39;00m\n\u001b[0;32m     46\u001b[0m path \u001b[38;5;241m=\u001b[39m \u001b[38;5;124mr\u001b[39m\u001b[38;5;124m\"\u001b[39m\u001b[38;5;124mC:\u001b[39m\u001b[38;5;124m\\\u001b[39m\u001b[38;5;124mUsers\u001b[39m\u001b[38;5;124m\\\u001b[39m\u001b[38;5;124mibm\u001b[39m\u001b[38;5;124m\\\u001b[39m\u001b[38;5;124mDesktop\u001b[39m\u001b[38;5;124m\\\u001b[39m\u001b[38;5;124mBasicScripts\u001b[39m\u001b[38;5;124m\\\u001b[39m\u001b[38;5;124mtesty\u001b[39m\u001b[38;5;124m\"\u001b[39m\n\u001b[1;32m---> 47\u001b[0m \u001b[43msorting_files\u001b[49m\u001b[38;5;241;43m.\u001b[39;49m\u001b[43mSortBDFFiles\u001b[49m\u001b[43m(\u001b[49m\u001b[43mpath\u001b[49m\u001b[43m)\u001b[49m\n\u001b[0;32m     48\u001b[0m CreateMasterFrames(path)\n\u001b[0;32m     49\u001b[0m CalculateScienceFrames(path)\n",
      "File \u001b[1;32mc:\\Users\\ibm\\Desktop\\BasicScripts\\BasicReduction-main\\sorting_files.py:12\u001b[0m, in \u001b[0;36mSortBDFFiles\u001b[1;34m(path)\u001b[0m\n\u001b[0;32m      1\u001b[0m \u001b[38;5;28;01mdef\u001b[39;00m \u001b[38;5;21mSortBDFFiles\u001b[39m(path):                   \n\u001b[0;32m      2\u001b[0m \u001b[38;5;250m    \u001b[39m\u001b[38;5;124;03m\"\"\"\u001b[39;00m\n\u001b[0;32m      3\u001b[0m \u001b[38;5;124;03m    Sortuje pliki w folderach na ramki naukowe oraz kalibracyjne z podziałem na długość ekspozycji i filtry. Tworzy odpowiednie masterfitsy.\u001b[39;00m\n\u001b[0;32m      4\u001b[0m \n\u001b[1;32m   (...)\u001b[0m\n\u001b[0;32m      9\u001b[0m \u001b[38;5;124;03m    - potwierdzenie posortowania plików fits.\u001b[39;00m\n\u001b[0;32m     10\u001b[0m \u001b[38;5;124;03m    \"\"\"\u001b[39;00m   \n\u001b[1;32m---> 12\u001b[0m     subfolders \u001b[38;5;241m=\u001b[39m \u001b[43mlistdir\u001b[49m(path)\n\u001b[0;32m     13\u001b[0m     \u001b[38;5;28;01mfor\u001b[39;00m file \u001b[38;5;129;01min\u001b[39;00m (subfolders):\n\u001b[0;32m     14\u001b[0m         \u001b[38;5;28;01mif\u001b[39;00m file \u001b[38;5;241m==\u001b[39m \u001b[38;5;124m'\u001b[39m\u001b[38;5;124mbdf\u001b[39m\u001b[38;5;124m'\u001b[39m:                       \u001b[38;5;66;03m# znajduje folder \"bdf\" i sortuje pliki według typu\u001b[39;00m\n",
      "\u001b[1;31mNameError\u001b[0m: name 'listdir' is not defined"
     ]
    }
   ],
   "source": [
    "### --- BasicReduction --- ###\n",
    "### --- Owner: Barbara Joachimczyk --- ###\n",
    "### ------------------------------------------------------------------------------------------------------ ###\n",
    "\n",
    "#region Imports\n",
    "\n",
    "from astropy.coordinates import EarthLocation, AltAz, SkyCoord\n",
    "from astropy.time import Time\n",
    "from astropy import units as u\n",
    "from astropy.wcs import WCS\n",
    "from astropy.visualization import ZScaleInterval\n",
    "from astroquery.astrometry_net import AstrometryNet\n",
    "from astroquery.astrometry_net import conf\n",
    "import matplotlib.pyplot as plt \n",
    "import numpy as np \n",
    "\n",
    "# from os import renames\n",
    "# from os.path import isfile, join, exists\n",
    "# from astropy.io import fits\n",
    "# from astropy.io import fits\n",
    "\n",
    "\n",
    "import glob\n",
    "import time\n",
    "from itertools import chain\n",
    "\n",
    "#import header\n",
    "#import frame\n",
    "from masters import Masters\n",
    "import sorting_files\n",
    "#import utils\n",
    "from building_masters import CreateMasterFrames\n",
    "from reduction import CalculateScienceFrames\n",
    "#endregion\n",
    "\n",
    "\n",
    "\n",
    "\n",
    "\n",
    "\n",
    "#region Global variables\n",
    "Observatory = EarthLocation(lat=53.093999*u.deg, lon=18.555925*u.deg, height=70*u.m)\n",
    "masterFrames = Masters()  \n",
    "#endregion\n",
    "\n",
    "path = r\"C:\\Users\\ibm\\Desktop\\BasicScripts\\testy\"\n",
    "sorting_files.SortBDFFiles(path)\n",
    "CreateMasterFrames(path)\n",
    "CalculateScienceFrames(path)\n",
    "\n",
    "\n",
    "        \n",
    "\n",
    "\n",
    "\n"
   ]
  }
 ],
 "metadata": {
  "kernelspec": {
   "display_name": "Python 3",
   "language": "python",
   "name": "python3"
  },
  "language_info": {
   "codemirror_mode": {
    "name": "ipython",
    "version": 3
   },
   "file_extension": ".py",
   "mimetype": "text/x-python",
   "name": "python",
   "nbconvert_exporter": "python",
   "pygments_lexer": "ipython3",
   "version": "3.12.0"
  }
 },
 "nbformat": 4,
 "nbformat_minor": 2
}
